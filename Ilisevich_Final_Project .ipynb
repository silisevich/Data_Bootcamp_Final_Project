{
 "cells": [
  {
   "cell_type": "markdown",
   "metadata": {},
   "source": [
    "Basic programs I'll for sure need, more will be added as needed"
   ]
  },
  {
   "cell_type": "code",
   "execution_count": 1,
   "metadata": {
    "collapsed": true
   },
   "outputs": [],
   "source": [
    "import pandas as pd\n",
    "import matplotlib.pyplot as plt\n",
    "import os\n",
    "import numpy as np\n",
    "\n",
    "%matplotlib inline"
   ]
  },
  {
   "cell_type": "code",
   "execution_count": 2,
   "metadata": {
    "collapsed": true
   },
   "outputs": [],
   "source": [
    "import pandas_datareader.data as web\n",
    "import datetime"
   ]
  },
  {
   "cell_type": "markdown",
   "metadata": {},
   "source": [
    "## Section 1: Measuring reactions to FOMC announcements\n",
    "\n",
    "There's no real way to tell how expected or unexpected an FOMC announcement is, but one common practice is to measure changes in U.S. Treasury yields in the days following announcements. There is some disagreement over how many days post-announcement to track, but this analysis will use changes in yields on FOMC days.\n",
    "\n",
    "I first imported daily 2-year U.S. Treasury yields since January 1, 2008 via the FRED API. "
   ]
  },
  {
   "cell_type": "code",
   "execution_count": 3,
   "metadata": {},
   "outputs": [
    {
     "data": {
      "text/plain": [
       "<matplotlib.axes._subplots.AxesSubplot at 0x10dc52e10>"
      ]
     },
     "execution_count": 3,
     "metadata": {},
     "output_type": "execute_result"
    },
    {
     "data": {
      "image/png": "[encoded data removed]",
      "text/plain": [
       "<matplotlib.figure.Figure at 0x10dc43f98>"
      ]
     },
     "metadata": {},
     "output_type": "display_data"
    }
   ],
   "source": [
    "start = datetime.datetime(2008, 1, 1)\n",
    "end = datetime.datetime(2018, 5, 4)\n",
    "codes = ['DGS2'] #DGS2 = 2-Year Treasury Constant Maturity Rate, daily frequency\n",
    "fred = web.DataReader(codes, 'fred', start, end)\n",
    "\n",
    "fred.plot()"
   ]
  },
  {
   "cell_type": "code",
   "execution_count": 4,
   "metadata": {},
   "outputs": [
    {
     "data": {
      "text/html": [
       "<div>\n",
       "<style>\n",
       "    .dataframe thead tr:only-child th {\n",
       "        text-align: right;\n",
       "    }\n",
       "\n",
       "    .dataframe thead th {\n",
       "        text-align: left;\n",
       "    }\n",
       "\n",
       "    .dataframe tbody tr th {\n",
       "        vertical-align: top;\n",
       "    }\n",
       "</style>\n",
       "<table border=\"1\" class=\"dataframe\">\n",
       "  <thead>\n",
       "    <tr style=\"text-align: right;\">\n",
       "      <th></th>\n",
       "      <th>DGS2</th>\n",
       "    </tr>\n",
       "    <tr>\n",
       "      <th>DATE</th>\n",
       "      <th></th>\n",
       "    </tr>\n",
       "  </thead>\n",
       "  <tbody>\n",
       "    <tr>\n",
       "      <th>2008-01-01</th>\n",
       "      <td>NaN</td>\n",
       "    </tr>\n",
       "    <tr>\n",
       "      <th>2008-01-02</th>\n",
       "      <td>2.88</td>\n",
       "    </tr>\n",
       "    <tr>\n",
       "      <th>2008-01-03</th>\n",
       "      <td>2.83</td>\n",
       "    </tr>\n",
       "    <tr>\n",
       "      <th>2008-01-04</th>\n",
       "      <td>2.74</td>\n",
       "    </tr>\n",
       "    <tr>\n",
       "      <th>2008-01-07</th>\n",
       "      <td>2.76</td>\n",
       "    </tr>\n",
       "  </tbody>\n",
       "</table>\n",
       "</div>"
      ],
      "text/plain": [
       "            DGS2\n",
       "DATE            \n",
       "2008-01-01   NaN\n",
       "2008-01-02  2.88\n",
       "2008-01-03  2.83\n",
       "2008-01-04  2.74\n",
       "2008-01-07  2.76"
      ]
     },
     "execution_count": 4,
     "metadata": {},
     "output_type": "execute_result"
    }
   ],
   "source": [
    "fred.head()"
   ]
  },
  {
   "cell_type": "markdown",
   "metadata": {},
   "source": [
    "I want the daily change in yields, so I add that column"
   ]
  },
  {
   "cell_type": "code",
   "execution_count": 5,
   "metadata": {},
   "outputs": [
    {
     "data": {
      "text/html": [
       "<div>\n",
       "<style>\n",
       "    .dataframe thead tr:only-child th {\n",
       "        text-align: right;\n",
       "    }\n",
       "\n",
       "    .dataframe thead th {\n",
       "        text-align: left;\n",
       "    }\n",
       "\n",
       "    .dataframe tbody tr th {\n",
       "        vertical-align: top;\n",
       "    }\n",
       "</style>\n",
       "<table border=\"1\" class=\"dataframe\">\n",
       "  <thead>\n",
       "    <tr style=\"text-align: right;\">\n",
       "      <th></th>\n",
       "      <th>DGS2</th>\n",
       "      <th>delta</th>\n",
       "    </tr>\n",
       "    <tr>\n",
       "      <th>DATE</th>\n",
       "      <th></th>\n",
       "      <th></th>\n",
       "    </tr>\n",
       "  </thead>\n",
       "  <tbody>\n",
       "    <tr>\n",
       "      <th>2008-01-01</th>\n",
       "      <td>NaN</td>\n",
       "      <td>NaN</td>\n",
       "    </tr>\n",
       "    <tr>\n",
       "      <th>2008-01-02</th>\n",
       "      <td>2.88</td>\n",
       "      <td>NaN</td>\n",
       "    </tr>\n",
       "    <tr>\n",
       "      <th>2008-01-03</th>\n",
       "      <td>2.83</td>\n",
       "      <td>-1.736111</td>\n",
       "    </tr>\n",
       "    <tr>\n",
       "      <th>2008-01-04</th>\n",
       "      <td>2.74</td>\n",
       "      <td>-3.180212</td>\n",
       "    </tr>\n",
       "    <tr>\n",
       "      <th>2008-01-07</th>\n",
       "      <td>2.76</td>\n",
       "      <td>0.729927</td>\n",
       "    </tr>\n",
       "  </tbody>\n",
       "</table>\n",
       "</div>"
      ],
      "text/plain": [
       "            DGS2     delta\n",
       "DATE                      \n",
       "2008-01-01   NaN       NaN\n",
       "2008-01-02  2.88       NaN\n",
       "2008-01-03  2.83 -1.736111\n",
       "2008-01-04  2.74 -3.180212\n",
       "2008-01-07  2.76  0.729927"
      ]
     },
     "execution_count": 5,
     "metadata": {},
     "output_type": "execute_result"
    }
   ],
   "source": [
    "fred = fred.assign(delta = 100*fred.pct_change())\n",
    "fred.head()"
   ]
  },
  {
   "cell_type": "code",
   "execution_count": 6,
   "metadata": {},
   "outputs": [
    {
     "data": {
      "text/html": [
       "<div>\n",
       "<style>\n",
       "    .dataframe thead tr:only-child th {\n",
       "        text-align: right;\n",
       "    }\n",
       "\n",
       "    .dataframe thead th {\n",
       "        text-align: left;\n",
       "    }\n",
       "\n",
       "    .dataframe tbody tr th {\n",
       "        vertical-align: top;\n",
       "    }\n",
       "</style>\n",
       "<table border=\"1\" class=\"dataframe\">\n",
       "  <thead>\n",
       "    <tr style=\"text-align: right;\">\n",
       "      <th></th>\n",
       "      <th>2yr_yield</th>\n",
       "      <th>daily_pct_change</th>\n",
       "    </tr>\n",
       "    <tr>\n",
       "      <th>DATE</th>\n",
       "      <th></th>\n",
       "      <th></th>\n",
       "    </tr>\n",
       "  </thead>\n",
       "  <tbody>\n",
       "    <tr>\n",
       "      <th>2008-01-01</th>\n",
       "      <td>NaN</td>\n",
       "      <td>NaN</td>\n",
       "    </tr>\n",
       "    <tr>\n",
       "      <th>2008-01-02</th>\n",
       "      <td>2.88</td>\n",
       "      <td>NaN</td>\n",
       "    </tr>\n",
       "    <tr>\n",
       "      <th>2008-01-03</th>\n",
       "      <td>2.83</td>\n",
       "      <td>-1.736111</td>\n",
       "    </tr>\n",
       "    <tr>\n",
       "      <th>2008-01-04</th>\n",
       "      <td>2.74</td>\n",
       "      <td>-3.180212</td>\n",
       "    </tr>\n",
       "    <tr>\n",
       "      <th>2008-01-07</th>\n",
       "      <td>2.76</td>\n",
       "      <td>0.729927</td>\n",
       "    </tr>\n",
       "  </tbody>\n",
       "</table>\n",
       "</div>"
      ],
      "text/plain": [
       "            2yr_yield  daily_pct_change\n",
       "DATE                                   \n",
       "2008-01-01        NaN               NaN\n",
       "2008-01-02       2.88               NaN\n",
       "2008-01-03       2.83         -1.736111\n",
       "2008-01-04       2.74         -3.180212\n",
       "2008-01-07       2.76          0.729927"
      ]
     },
     "execution_count": 6,
     "metadata": {},
     "output_type": "execute_result"
    }
   ],
   "source": [
    "fred = fred.rename(columns = {'DGS2' : '2yr_yield', 'delta' : 'daily_pct_change'})\n",
    "fred.head()"
   ]
  },
  {
   "cell_type": "markdown",
   "metadata": {},
   "source": [
    "I only want to know this data on FOMC announcement days. Unfortunately, there isn't an API for these dates, so I had to manually enter the dates from the [FOMC's website](https://www.federalreserve.gov/monetarypolicy/fomccalendars.htm) calendar into an Excel sheet (available in my GitHub repository). "
   ]
  },
  {
   "cell_type": "code",
   "execution_count": 7,
   "metadata": {
    "collapsed": true
   },
   "outputs": [],
   "source": [
    "from pandas import ExcelWriter\n",
    "from pandas import ExcelFile\n",
    "from pandas import read_csv"
   ]
  },
  {
   "cell_type": "code",
   "execution_count": 8,
   "metadata": {
    "collapsed": true
   },
   "outputs": [],
   "source": [
    "path = '/Users/simon.ilisevich/Documents/Data_Bootcamp/fomc_dates.csv'\n",
    "fomc_dates = read_csv(path, index_col='Date', usecols=['Date','Announcements'])"
   ]
  },
  {
   "cell_type": "code",
   "execution_count": 9,
   "metadata": {},
   "outputs": [
    {
     "data": {
      "text/html": [
       "<div>\n",
       "<style>\n",
       "    .dataframe thead tr:only-child th {\n",
       "        text-align: right;\n",
       "    }\n",
       "\n",
       "    .dataframe thead th {\n",
       "        text-align: left;\n",
       "    }\n",
       "\n",
       "    .dataframe tbody tr th {\n",
       "        vertical-align: top;\n",
       "    }\n",
       "</style>\n",
       "<table border=\"1\" class=\"dataframe\">\n",
       "  <thead>\n",
       "    <tr style=\"text-align: right;\">\n",
       "      <th></th>\n",
       "      <th>Announcements</th>\n",
       "    </tr>\n",
       "    <tr>\n",
       "      <th>DATE</th>\n",
       "      <th></th>\n",
       "    </tr>\n",
       "  </thead>\n",
       "  <tbody>\n",
       "    <tr>\n",
       "      <th>2008-10-08</th>\n",
       "      <td>FFR target decrease *intermeeting</td>\n",
       "    </tr>\n",
       "    <tr>\n",
       "      <th>2008-10-29</th>\n",
       "      <td>FFR target decrease</td>\n",
       "    </tr>\n",
       "    <tr>\n",
       "      <th>2008-11-25</th>\n",
       "      <td>MBS and agency debt purchase *intermeeting</td>\n",
       "    </tr>\n",
       "    <tr>\n",
       "      <th>2008-12-16</th>\n",
       "      <td>FFR target decrease</td>\n",
       "    </tr>\n",
       "    <tr>\n",
       "      <th>2009-01-28</th>\n",
       "      <td>NaN</td>\n",
       "    </tr>\n",
       "  </tbody>\n",
       "</table>\n",
       "</div>"
      ],
      "text/plain": [
       "                                         Announcements\n",
       "DATE                                                  \n",
       "2008-10-08           FFR target decrease *intermeeting\n",
       "2008-10-29                         FFR target decrease\n",
       "2008-11-25  MBS and agency debt purchase *intermeeting\n",
       "2008-12-16                         FFR target decrease\n",
       "2009-01-28                                         NaN"
      ]
     },
     "execution_count": 9,
     "metadata": {},
     "output_type": "execute_result"
    }
   ],
   "source": [
    "fomc_dates.index.names = ['DATE']\n",
    "fomc_dates.head()"
   ]
  },
  {
   "cell_type": "markdown",
   "metadata": {},
   "source": [
    "Using the FOMC dates, I create a new dataframe that only includes yields and daily changes in yield on FOMC days"
   ]
  },
  {
   "cell_type": "code",
   "execution_count": 10,
   "metadata": {
    "collapsed": true
   },
   "outputs": [],
   "source": [
    "fomc_dates = fomc_dates.join(fred)"
   ]
  },
  {
   "cell_type": "code",
   "execution_count": 11,
   "metadata": {},
   "outputs": [
    {
     "data": {
      "text/html": [
       "<div>\n",
       "<style>\n",
       "    .dataframe thead tr:only-child th {\n",
       "        text-align: right;\n",
       "    }\n",
       "\n",
       "    .dataframe thead th {\n",
       "        text-align: left;\n",
       "    }\n",
       "\n",
       "    .dataframe tbody tr th {\n",
       "        vertical-align: top;\n",
       "    }\n",
       "</style>\n",
       "<table border=\"1\" class=\"dataframe\">\n",
       "  <thead>\n",
       "    <tr style=\"text-align: right;\">\n",
       "      <th></th>\n",
       "      <th>Announcements</th>\n",
       "      <th>2yr_yield</th>\n",
       "      <th>daily_pct_change</th>\n",
       "    </tr>\n",
       "    <tr>\n",
       "      <th>DATE</th>\n",
       "      <th></th>\n",
       "      <th></th>\n",
       "      <th></th>\n",
       "    </tr>\n",
       "  </thead>\n",
       "  <tbody>\n",
       "    <tr>\n",
       "      <th>2008-10-08</th>\n",
       "      <td>FFR target decrease *intermeeting</td>\n",
       "      <td>1.65</td>\n",
       "      <td>12.244898</td>\n",
       "    </tr>\n",
       "    <tr>\n",
       "      <th>2008-10-29</th>\n",
       "      <td>FFR target decrease</td>\n",
       "      <td>1.58</td>\n",
       "      <td>-4.242424</td>\n",
       "    </tr>\n",
       "    <tr>\n",
       "      <th>2008-11-25</th>\n",
       "      <td>MBS and agency debt purchase *intermeeting</td>\n",
       "      <td>1.15</td>\n",
       "      <td>-12.213740</td>\n",
       "    </tr>\n",
       "    <tr>\n",
       "      <th>2008-12-16</th>\n",
       "      <td>FFR target decrease</td>\n",
       "      <td>0.65</td>\n",
       "      <td>-13.333333</td>\n",
       "    </tr>\n",
       "    <tr>\n",
       "      <th>2009-01-28</th>\n",
       "      <td>NaN</td>\n",
       "      <td>0.89</td>\n",
       "      <td>2.298851</td>\n",
       "    </tr>\n",
       "  </tbody>\n",
       "</table>\n",
       "</div>"
      ],
      "text/plain": [
       "                                         Announcements  2yr_yield  \\\n",
       "DATE                                                                \n",
       "2008-10-08           FFR target decrease *intermeeting       1.65   \n",
       "2008-10-29                         FFR target decrease       1.58   \n",
       "2008-11-25  MBS and agency debt purchase *intermeeting       1.15   \n",
       "2008-12-16                         FFR target decrease       0.65   \n",
       "2009-01-28                                         NaN       0.89   \n",
       "\n",
       "            daily_pct_change  \n",
       "DATE                          \n",
       "2008-10-08         12.244898  \n",
       "2008-10-29         -4.242424  \n",
       "2008-11-25        -12.213740  \n",
       "2008-12-16        -13.333333  \n",
       "2009-01-28          2.298851  "
      ]
     },
     "execution_count": 11,
     "metadata": {},
     "output_type": "execute_result"
    }
   ],
   "source": [
    "fomc_dates.head()"
   ]
  },
  {
   "cell_type": "code",
   "execution_count": 12,
   "metadata": {},
   "outputs": [
    {
     "data": {
      "text/plain": [
       "DatetimeIndex(['2008-10-08', '2008-10-29', '2008-11-25', '2008-12-16',\n",
       "               '2009-01-28', '2009-03-18', '2009-04-29', '2009-06-24',\n",
       "               '2009-08-12', '2009-09-23', '2009-11-04', '2009-12-16',\n",
       "               '2010-01-27', '2010-03-16', '2010-04-28', '2010-06-23',\n",
       "               '2010-08-10', '2010-09-21', '2010-11-03', '2010-12-14',\n",
       "               '2011-01-26', '2011-03-15', '2011-04-27', '2011-06-22',\n",
       "               '2011-08-09', '2011-09-21', '2011-11-02', '2011-12-13',\n",
       "               '2012-01-25', '2012-03-13', '2012-04-25', '2012-06-20',\n",
       "               '2012-08-01', '2012-09-13', '2012-10-24', '2012-12-12',\n",
       "               '2013-01-30', '2013-03-20', '2013-05-01', '2013-06-19',\n",
       "               '2013-09-18', '2013-10-30', '2013-12-18', '2014-01-29',\n",
       "               '2014-03-19', '2014-04-30', '2014-06-18', '2014-07-30',\n",
       "               '2014-09-17', '2014-10-29', '2014-12-17', '2015-01-28',\n",
       "               '2015-03-18', '2015-04-29', '2015-06-17', '2015-07-29',\n",
       "               '2015-09-17', '2015-10-28', '2015-12-16', '2016-01-27',\n",
       "               '2016-03-16', '2016-04-27', '2016-06-15', '2016-07-27',\n",
       "               '2016-09-21', '2016-11-02', '2016-12-14', '2017-02-01',\n",
       "               '2017-03-15', '2017-05-03', '2017-06-14', '2017-07-26',\n",
       "               '2020-09-20', '2017-11-01', '2017-12-13', '2018-01-31',\n",
       "               '2018-03-21', '2018-05-02'],\n",
       "              dtype='datetime64[ns]', name='DATE', freq=None)"
      ]
     },
     "execution_count": 12,
     "metadata": {},
     "output_type": "execute_result"
    }
   ],
   "source": [
    "fomc_dates.index"
   ]
  },
  {
   "cell_type": "code",
   "execution_count": 13,
   "metadata": {},
   "outputs": [
    {
     "name": "stdout",
     "output_type": "stream",
     "text": [
      "0.13556977235635276\n",
      "5.324606758338174\n"
     ]
    }
   ],
   "source": [
    "fred_mean = fred['daily_pct_change'].mean()\n",
    "fred_std = fred['daily_pct_change'].std()\n",
    "\n",
    "print(fred_mean)\n",
    "print(fred_std)"
   ]
  },
  {
   "cell_type": "code",
   "execution_count": 14,
   "metadata": {},
   "outputs": [
    {
     "data": {
      "text/plain": [
       "10.784783289032701"
      ]
     },
     "execution_count": 14,
     "metadata": {},
     "output_type": "execute_result"
    }
   ],
   "source": [
    "a = 2*fred_std + fred_mean\n",
    "a"
   ]
  },
  {
   "cell_type": "code",
   "execution_count": 15,
   "metadata": {},
   "outputs": [
    {
     "data": {
      "text/plain": [
       "float"
      ]
     },
     "execution_count": 15,
     "metadata": {},
     "output_type": "execute_result"
    }
   ],
   "source": [
    "type(a)"
   ]
  },
  {
   "cell_type": "code",
   "execution_count": 16,
   "metadata": {
    "scrolled": false
   },
   "outputs": [
    {
     "data": {
      "text/plain": [
       "Text(63,24,'MBS-purchase reduction')"
      ]
     },
     "execution_count": 16,
     "metadata": {},
     "output_type": "execute_result"
    },
    {
     "data": {
      "image/png": "[encoded data removed]",
      "text/plain": [
       "<matplotlib.figure.Figure at 0x10ddbc438>"
      ]
     },
     "metadata": {},
     "output_type": "display_data"
    }
   ],
   "source": [
    "fig, ax = plt.subplots(figsize=(15,5))\n",
    "\n",
    "ax.set_facecolor('0.9')\n",
    "\n",
    "import matplotlib.ticker as ticker\n",
    "\n",
    "clr1 = 'r'\n",
    "clr2 = 'g'\n",
    "clrs = [clr1 if var >= a else clr2 for var in fomc_dates['daily_pct_change']]\n",
    "\n",
    "fomc_dates.daily_pct_change.plot(kind='bar', \n",
    "                                 ax=ax,\n",
    "                                color = clrs)\n",
    "\n",
    "ax.spines[\"right\"].set_visible(False)\n",
    "ax.spines[\"top\"].set_visible(False)\n",
    "\n",
    "ax.set_title(\"Change in 2-Year Treasury Yields on FOMC days\", fontsize=16, fontweight = \"bold\", y=1.08)\n",
    "ax.set_ylabel(\"% Change\", fontweight=\"bold\") \n",
    "ax.set_xlabel(\"Date\", fontweight='bold')\n",
    "\n",
    "labels = ['Oct 2008', 'Sep 2010', 'Aug 2012', 'Jul 2014', 'Jun 2016', 'May 2018']\n",
    "plt.gca().set_xticklabels(labels, rotation=0)\n",
    "\n",
    "ax.xaxis.set_major_locator(ticker.MultipleLocator(19))\n",
    "\n",
    "ax.annotate(\"QE 1\", xy=(5.5, -15.0), xycoords=\"data\", xytext=(8.0, -20.0), horizontalalignment=\"left\", \n",
    "arrowprops={\"arrowstyle\": \"-|>\",  \"color\": \"black\"}, fontsize=12,)\n",
    "\n",
    "ax.annotate(\"Operation Twist\", xy=(24, 15.0), xycoords=\"data\", xytext=(13.0, 20.0), horizontalalignment=\"left\", \n",
    "arrowprops={\"arrowstyle\": \"-|>\", \"color\": \"black\"},fontsize=12,)\n",
    "\n",
    "ax.annotate(\"Taper-Tantrum 1\", xy=(38, 15.0), xycoords=\"data\", xytext=(30.0, 18.0), horizontalalignment=\"left\", \n",
    "arrowprops={\"arrowstyle\": \"-|>\", \"color\": \"black\"},fontsize=12,)\n",
    "\n",
    "ax.annotate(\"MBS-purchase reduction\", xy=(45, 24.0), xycoords=\"data\", xytext=(63.0, 24.0), horizontalalignment=\"right\", \n",
    "arrowprops={\"arrowstyle\": \"-|>\", \"color\": \"black\"},fontsize=12,)"
   ]
  },
  {
   "cell_type": "markdown",
   "metadata": {},
   "source": [
    "## Section 2: Importing and Combining Chinese, Indian, and Russian market reactions\n",
    "\n",
    "The next step is to measure changes in equity prices, exchange rates, and bond yields among three of the four largest emerging market economies. Data for this entire section came from the Stooq Index Data API. While not the easiest API to work with, it was the only API I could find that provided data for all three categories across the entire test period. \n",
    "\n",
    "The same importing, cleaning, and merging process is repeated for all three categories. It's explained in the equities section."
   ]
  },
  {
   "cell_type": "markdown",
   "metadata": {},
   "source": [
    "#### Equities\n",
    "These are the largest equity indeces for each country from the Stooq Index Data API"
   ]
  },
  {
   "cell_type": "markdown",
   "metadata": {},
   "source": [
    "China - Shanghai Composite Index"
   ]
  },
  {
   "cell_type": "code",
   "execution_count": 17,
   "metadata": {},
   "outputs": [
    {
     "data": {
      "text/html": [
       "<div>\n",
       "<style>\n",
       "    .dataframe thead tr:only-child th {\n",
       "        text-align: right;\n",
       "    }\n",
       "\n",
       "    .dataframe thead th {\n",
       "        text-align: left;\n",
       "    }\n",
       "\n",
       "    .dataframe tbody tr th {\n",
       "        vertical-align: top;\n",
       "    }\n",
       "</style>\n",
       "<table border=\"1\" class=\"dataframe\">\n",
       "  <thead>\n",
       "    <tr style=\"text-align: right;\">\n",
       "      <th></th>\n",
       "      <th>Open</th>\n",
       "      <th>High</th>\n",
       "      <th>Low</th>\n",
       "      <th>Close</th>\n",
       "      <th>Volume</th>\n",
       "    </tr>\n",
       "    <tr>\n",
       "      <th>Date</th>\n",
       "      <th></th>\n",
       "      <th></th>\n",
       "      <th></th>\n",
       "      <th></th>\n",
       "      <th></th>\n",
       "    </tr>\n",
       "  </thead>\n",
       "  <tbody>\n",
       "    <tr>\n",
       "      <th>2018-05-15</th>\n",
       "      <td>3181.20</td>\n",
       "      <td>3192.27</td>\n",
       "      <td>3164.79</td>\n",
       "      <td>3192.12</td>\n",
       "      <td>4.292036e+09</td>\n",
       "    </tr>\n",
       "    <tr>\n",
       "      <th>2018-05-14</th>\n",
       "      <td>3168.87</td>\n",
       "      <td>3183.71</td>\n",
       "      <td>3163.55</td>\n",
       "      <td>3174.03</td>\n",
       "      <td>1.290184e+10</td>\n",
       "    </tr>\n",
       "    <tr>\n",
       "      <th>2018-05-11</th>\n",
       "      <td>3179.84</td>\n",
       "      <td>3180.42</td>\n",
       "      <td>3162.87</td>\n",
       "      <td>3163.26</td>\n",
       "      <td>1.303172e+10</td>\n",
       "    </tr>\n",
       "    <tr>\n",
       "      <th>2018-05-10</th>\n",
       "      <td>3172.07</td>\n",
       "      <td>3175.71</td>\n",
       "      <td>3155.93</td>\n",
       "      <td>3174.41</td>\n",
       "      <td>1.326845e+10</td>\n",
       "    </tr>\n",
       "    <tr>\n",
       "      <th>2018-05-09</th>\n",
       "      <td>3160.30</td>\n",
       "      <td>3163.90</td>\n",
       "      <td>3145.66</td>\n",
       "      <td>3159.15</td>\n",
       "      <td>1.222572e+10</td>\n",
       "    </tr>\n",
       "  </tbody>\n",
       "</table>\n",
       "</div>"
      ],
      "text/plain": [
       "               Open     High      Low    Close        Volume\n",
       "Date                                                        \n",
       "2018-05-15  3181.20  3192.27  3164.79  3192.12  4.292036e+09\n",
       "2018-05-14  3168.87  3183.71  3163.55  3174.03  1.290184e+10\n",
       "2018-05-11  3179.84  3180.42  3162.87  3163.26  1.303172e+10\n",
       "2018-05-10  3172.07  3175.71  3155.93  3174.41  1.326845e+10\n",
       "2018-05-09  3160.30  3163.90  3145.66  3159.15  1.222572e+10"
      ]
     },
     "execution_count": 17,
     "metadata": {},
     "output_type": "execute_result"
    }
   ],
   "source": [
    "start = datetime.datetime(2008, 1, 1)\n",
    "end = datetime.datetime(2018, 5, 4)\n",
    "ch_equities = web.DataReader('^SHC', 'stooq', start, end)\n",
    "ch_equities.head()"
   ]
  },
  {
   "cell_type": "markdown",
   "metadata": {},
   "source": [
    "India - BSE SENSEX"
   ]
  },
  {
   "cell_type": "code",
   "execution_count": 18,
   "metadata": {},
   "outputs": [
    {
     "data": {
      "text/html": [
       "<div>\n",
       "<style>\n",
       "    .dataframe thead tr:only-child th {\n",
       "        text-align: right;\n",
       "    }\n",
       "\n",
       "    .dataframe thead th {\n",
       "        text-align: left;\n",
       "    }\n",
       "\n",
       "    .dataframe tbody tr th {\n",
       "        vertical-align: top;\n",
       "    }\n",
       "</style>\n",
       "<table border=\"1\" class=\"dataframe\">\n",
       "  <thead>\n",
       "    <tr style=\"text-align: right;\">\n",
       "      <th></th>\n",
       "      <th>Open</th>\n",
       "      <th>High</th>\n",
       "      <th>Low</th>\n",
       "      <th>Close</th>\n",
       "      <th>Volume</th>\n",
       "    </tr>\n",
       "    <tr>\n",
       "      <th>Date</th>\n",
       "      <th></th>\n",
       "      <th></th>\n",
       "      <th></th>\n",
       "      <th></th>\n",
       "      <th></th>\n",
       "    </tr>\n",
       "  </thead>\n",
       "  <tbody>\n",
       "    <tr>\n",
       "      <th>2018-05-15</th>\n",
       "      <td>35580.67</td>\n",
       "      <td>35992.98</td>\n",
       "      <td>35498.32</td>\n",
       "      <td>35543.94</td>\n",
       "      <td>NaN</td>\n",
       "    </tr>\n",
       "    <tr>\n",
       "      <th>2018-05-14</th>\n",
       "      <td>35555.83</td>\n",
       "      <td>35642.72</td>\n",
       "      <td>35457.71</td>\n",
       "      <td>35556.71</td>\n",
       "      <td>9279750.0</td>\n",
       "    </tr>\n",
       "    <tr>\n",
       "      <th>2018-05-11</th>\n",
       "      <td>35301.23</td>\n",
       "      <td>35579.82</td>\n",
       "      <td>35262.67</td>\n",
       "      <td>35535.79</td>\n",
       "      <td>9210202.0</td>\n",
       "    </tr>\n",
       "    <tr>\n",
       "      <th>2018-05-10</th>\n",
       "      <td>35419.01</td>\n",
       "      <td>35500.02</td>\n",
       "      <td>35205.42</td>\n",
       "      <td>35246.27</td>\n",
       "      <td>8732699.0</td>\n",
       "    </tr>\n",
       "    <tr>\n",
       "      <th>2018-05-09</th>\n",
       "      <td>35166.24</td>\n",
       "      <td>35393.72</td>\n",
       "      <td>35138.22</td>\n",
       "      <td>35319.35</td>\n",
       "      <td>9689521.0</td>\n",
       "    </tr>\n",
       "  </tbody>\n",
       "</table>\n",
       "</div>"
      ],
      "text/plain": [
       "                Open      High       Low     Close     Volume\n",
       "Date                                                         \n",
       "2018-05-15  35580.67  35992.98  35498.32  35543.94        NaN\n",
       "2018-05-14  35555.83  35642.72  35457.71  35556.71  9279750.0\n",
       "2018-05-11  35301.23  35579.82  35262.67  35535.79  9210202.0\n",
       "2018-05-10  35419.01  35500.02  35205.42  35246.27  8732699.0\n",
       "2018-05-09  35166.24  35393.72  35138.22  35319.35  9689521.0"
      ]
     },
     "execution_count": 18,
     "metadata": {},
     "output_type": "execute_result"
    }
   ],
   "source": [
    "start = datetime.datetime(2008, 1, 1)\n",
    "end = datetime.datetime(2018, 5, 4)\n",
    "in_equities = web.DataReader('^SNX', 'stooq', start, end)\n",
    "in_equities.head()"
   ]
  },
  {
   "cell_type": "markdown",
   "metadata": {},
   "source": [
    "Russia - RTS Index"
   ]
  },
  {
   "cell_type": "code",
   "execution_count": 19,
   "metadata": {},
   "outputs": [
    {
     "data": {
      "text/html": [
       "<div>\n",
       "<style>\n",
       "    .dataframe thead tr:only-child th {\n",
       "        text-align: right;\n",
       "    }\n",
       "\n",
       "    .dataframe thead th {\n",
       "        text-align: left;\n",
       "    }\n",
       "\n",
       "    .dataframe tbody tr th {\n",
       "        vertical-align: top;\n",
       "    }\n",
       "</style>\n",
       "<table border=\"1\" class=\"dataframe\">\n",
       "  <thead>\n",
       "    <tr style=\"text-align: right;\">\n",
       "      <th></th>\n",
       "      <th>Open</th>\n",
       "      <th>High</th>\n",
       "      <th>Low</th>\n",
       "      <th>Close</th>\n",
       "      <th>Volume</th>\n",
       "    </tr>\n",
       "    <tr>\n",
       "      <th>Date</th>\n",
       "      <th></th>\n",
       "      <th></th>\n",
       "      <th></th>\n",
       "      <th></th>\n",
       "      <th></th>\n",
       "    </tr>\n",
       "  </thead>\n",
       "  <tbody>\n",
       "    <tr>\n",
       "      <th>2018-05-15</th>\n",
       "      <td>1198.64</td>\n",
       "      <td>1198.64</td>\n",
       "      <td>1171.48</td>\n",
       "      <td>1178.76</td>\n",
       "      <td>NaN</td>\n",
       "    </tr>\n",
       "    <tr>\n",
       "      <th>2018-05-14</th>\n",
       "      <td>1193.53</td>\n",
       "      <td>1203.99</td>\n",
       "      <td>1185.94</td>\n",
       "      <td>1202.56</td>\n",
       "      <td>NaN</td>\n",
       "    </tr>\n",
       "    <tr>\n",
       "      <th>2018-05-11</th>\n",
       "      <td>1183.40</td>\n",
       "      <td>1200.21</td>\n",
       "      <td>1181.76</td>\n",
       "      <td>1193.98</td>\n",
       "      <td>2.237898e+10</td>\n",
       "    </tr>\n",
       "    <tr>\n",
       "      <th>2018-05-10</th>\n",
       "      <td>1154.23</td>\n",
       "      <td>1182.14</td>\n",
       "      <td>1154.00</td>\n",
       "      <td>1179.63</td>\n",
       "      <td>1.828950e+10</td>\n",
       "    </tr>\n",
       "    <tr>\n",
       "      <th>2018-05-08</th>\n",
       "      <td>1146.88</td>\n",
       "      <td>1146.88</td>\n",
       "      <td>1131.77</td>\n",
       "      <td>1142.13</td>\n",
       "      <td>2.169624e+10</td>\n",
       "    </tr>\n",
       "  </tbody>\n",
       "</table>\n",
       "</div>"
      ],
      "text/plain": [
       "               Open     High      Low    Close        Volume\n",
       "Date                                                        \n",
       "2018-05-15  1198.64  1198.64  1171.48  1178.76           NaN\n",
       "2018-05-14  1193.53  1203.99  1185.94  1202.56           NaN\n",
       "2018-05-11  1183.40  1200.21  1181.76  1193.98  2.237898e+10\n",
       "2018-05-10  1154.23  1182.14  1154.00  1179.63  1.828950e+10\n",
       "2018-05-08  1146.88  1146.88  1131.77  1142.13  2.169624e+10"
      ]
     },
     "execution_count": 19,
     "metadata": {},
     "output_type": "execute_result"
    }
   ],
   "source": [
    "start = ['2008-01-01']\n",
    "end = ['2018-05-04']\n",
    "ru_equities = web.DataReader('^RTS', 'stooq', start, end)\n",
    "ru_equities.head()"
   ]
  },
  {
   "cell_type": "markdown",
   "metadata": {},
   "source": [
    "Getting rid of unecessary columns"
   ]
  },
  {
   "cell_type": "code",
   "execution_count": 20,
   "metadata": {},
   "outputs": [],
   "source": [
    "ch_equities = ch_equities.drop(ch_equities.columns[[0, 1, 2, 4]], axis=1) \n",
    "in_equities = in_equities.drop(in_equities.columns[[0, 1, 2, 4]], axis=1) \n",
    "ru_equities = ru_equities.drop(ru_equities.columns[[0, 1, 2, 4]], axis=1) "
   ]
  },
  {
   "cell_type": "markdown",
   "metadata": {},
   "source": [
    "Adding in daily percentage change"
   ]
  },
  {
   "cell_type": "code",
   "execution_count": 21,
   "metadata": {},
   "outputs": [],
   "source": [
    "ch_equities = ch_equities.assign(ch_equity_change = 100*ch_equities.pct_change())\n",
    "in_equities = in_equities.assign(in_equity_change = 100*in_equities.pct_change())\n",
    "ru_equities = ru_equities.assign(ru_equity_change = 100*ru_equities.pct_change())"
   ]
  },
  {
   "cell_type": "markdown",
   "metadata": {},
   "source": [
    "Each DataFrame has a slightly different index, so I need to create a common index among all three in order to make merging them easier"
   ]
  },
  {
   "cell_type": "code",
   "execution_count": 22,
   "metadata": {
    "collapsed": true
   },
   "outputs": [],
   "source": [
    "idx = pd.date_range('2008-01-01', '2018-05-04')"
   ]
  },
  {
   "cell_type": "code",
   "execution_count": 23,
   "metadata": {
    "collapsed": true
   },
   "outputs": [],
   "source": [
    "ch_equities.index = pd.DatetimeIndex(ch_equities.index)\n",
    "ch_equities = ch_equities.reindex(idx, fill_value='NaN')\n",
    "\n",
    "in_equities.index = pd.DatetimeIndex(in_equities.index)\n",
    "in_equities = in_equities.reindex(idx, fill_value='NaN')\n",
    "\n",
    "ru_equities.index = pd.DatetimeIndex(ru_equities.index)\n",
    "ru_equities = ru_equities.reindex(idx, fill_value='NaN')"
   ]
  },
  {
   "cell_type": "markdown",
   "metadata": {},
   "source": [
    "Dropping now unecessary Close prices"
   ]
  },
  {
   "cell_type": "code",
   "execution_count": 24,
   "metadata": {
    "collapsed": true
   },
   "outputs": [],
   "source": [
    "ch_equities = ch_equities.drop('Close', 1)\n",
    "in_equities = in_equities.drop('Close', 1)\n",
    "ru_equities = ru_equities.drop('Close', 1)"
   ]
  },
  {
   "cell_type": "markdown",
   "metadata": {},
   "source": [
    "New table with emerging market equity reactions included "
   ]
  },
  {
   "cell_type": "code",
   "execution_count": 25,
   "metadata": {},
   "outputs": [
    {
     "data": {
      "text/html": [
       "<div>\n",
       "<style>\n",
       "    .dataframe thead tr:only-child th {\n",
       "        text-align: right;\n",
       "    }\n",
       "\n",
       "    .dataframe thead th {\n",
       "        text-align: left;\n",
       "    }\n",
       "\n",
       "    .dataframe tbody tr th {\n",
       "        vertical-align: top;\n",
       "    }\n",
       "</style>\n",
       "<table border=\"1\" class=\"dataframe\">\n",
       "  <thead>\n",
       "    <tr style=\"text-align: right;\">\n",
       "      <th></th>\n",
       "      <th>Announcements</th>\n",
       "      <th>2yr_yield</th>\n",
       "      <th>daily_pct_change</th>\n",
       "      <th>ch_equity_change</th>\n",
       "      <th>in_equity_change</th>\n",
       "      <th>ru_equity_change</th>\n",
       "    </tr>\n",
       "    <tr>\n",
       "      <th>DATE</th>\n",
       "      <th></th>\n",
       "      <th></th>\n",
       "      <th></th>\n",
       "      <th></th>\n",
       "      <th></th>\n",
       "      <th></th>\n",
       "    </tr>\n",
       "  </thead>\n",
       "  <tbody>\n",
       "    <tr>\n",
       "      <th>2008-10-08</th>\n",
       "      <td>FFR target decrease *intermeeting</td>\n",
       "      <td>1.65</td>\n",
       "      <td>12.244898</td>\n",
       "      <td>0.850293</td>\n",
       "      <td>7.60374</td>\n",
       "      <td>-9.8396</td>\n",
       "    </tr>\n",
       "    <tr>\n",
       "      <th>2008-10-29</th>\n",
       "      <td>FFR target decrease</td>\n",
       "      <td>1.58</td>\n",
       "      <td>-4.242424</td>\n",
       "      <td>-2.48354</td>\n",
       "      <td>-7.5965</td>\n",
       "      <td>-15.1191</td>\n",
       "    </tr>\n",
       "    <tr>\n",
       "      <th>2008-11-25</th>\n",
       "      <td>MBS and agency debt purchase *intermeeting</td>\n",
       "      <td>1.15</td>\n",
       "      <td>-12.213740</td>\n",
       "      <td>-0.482644</td>\n",
       "      <td>-3.669</td>\n",
       "      <td>5.14401</td>\n",
       "    </tr>\n",
       "    <tr>\n",
       "      <th>2008-12-16</th>\n",
       "      <td>FFR target decrease</td>\n",
       "      <td>0.65</td>\n",
       "      <td>-13.333333</td>\n",
       "      <td>-0.0915612</td>\n",
       "      <td>2.69359</td>\n",
       "      <td>-1.7032</td>\n",
       "    </tr>\n",
       "    <tr>\n",
       "      <th>2009-01-28</th>\n",
       "      <td>NaN</td>\n",
       "      <td>0.89</td>\n",
       "      <td>2.298851</td>\n",
       "      <td>NaN</td>\n",
       "      <td>0.229421</td>\n",
       "      <td>2.95647</td>\n",
       "    </tr>\n",
       "  </tbody>\n",
       "</table>\n",
       "</div>"
      ],
      "text/plain": [
       "                                         Announcements  2yr_yield  \\\n",
       "DATE                                                                \n",
       "2008-10-08           FFR target decrease *intermeeting       1.65   \n",
       "2008-10-29                         FFR target decrease       1.58   \n",
       "2008-11-25  MBS and agency debt purchase *intermeeting       1.15   \n",
       "2008-12-16                         FFR target decrease       0.65   \n",
       "2009-01-28                                         NaN       0.89   \n",
       "\n",
       "            daily_pct_change ch_equity_change in_equity_change  \\\n",
       "DATE                                                             \n",
       "2008-10-08         12.244898         0.850293          7.60374   \n",
       "2008-10-29         -4.242424         -2.48354          -7.5965   \n",
       "2008-11-25        -12.213740        -0.482644           -3.669   \n",
       "2008-12-16        -13.333333       -0.0915612          2.69359   \n",
       "2009-01-28          2.298851              NaN         0.229421   \n",
       "\n",
       "           ru_equity_change  \n",
       "DATE                         \n",
       "2008-10-08          -9.8396  \n",
       "2008-10-29         -15.1191  \n",
       "2008-11-25          5.14401  \n",
       "2008-12-16          -1.7032  \n",
       "2009-01-28          2.95647  "
      ]
     },
     "execution_count": 25,
     "metadata": {},
     "output_type": "execute_result"
    }
   ],
   "source": [
    "market_response = fomc_dates.join(ch_equities, how='left', lsuffix='_left', rsuffix='_right').join(in_equities, how='left', lsuffix='_left', rsuffix='_right').join(ru_equities, how='left', lsuffix='_left', rsuffix='_right')\n",
    "market_response.head()"
   ]
  },
  {
   "cell_type": "markdown",
   "metadata": {},
   "source": [
    "#### Exchange Rates"
   ]
  },
  {
   "cell_type": "markdown",
   "metadata": {},
   "source": [
    "CNY/USD"
   ]
  },
  {
   "cell_type": "code",
   "execution_count": 26,
   "metadata": {
    "collapsed": true
   },
   "outputs": [],
   "source": [
    "start = datetime.datetime(2008, 1, 1)\n",
    "end = datetime.datetime(2018, 5, 4)\n",
    "ch_fx = web.DataReader('CNYUSD', 'stooq', start, end)"
   ]
  },
  {
   "cell_type": "markdown",
   "metadata": {},
   "source": [
    "INR/USD"
   ]
  },
  {
   "cell_type": "code",
   "execution_count": 27,
   "metadata": {
    "collapsed": true
   },
   "outputs": [],
   "source": [
    "start = datetime.datetime(2008, 1, 1)\n",
    "end = datetime.datetime(2018, 5, 4)\n",
    "in_fx = web.DataReader('INRUSD', 'stooq', start, end)"
   ]
  },
  {
   "cell_type": "markdown",
   "metadata": {},
   "source": [
    "RUB/USD"
   ]
  },
  {
   "cell_type": "code",
   "execution_count": 28,
   "metadata": {
    "collapsed": true
   },
   "outputs": [],
   "source": [
    "start = datetime.datetime(2008, 1, 1)\n",
    "end = datetime.datetime(2018, 5, 4)\n",
    "ru_fx = web.DataReader('RUBUSD', 'stooq', start, end)"
   ]
  },
  {
   "cell_type": "code",
   "execution_count": 29,
   "metadata": {},
   "outputs": [
    {
     "data": {
      "text/html": [
       "<div>\n",
       "<style>\n",
       "    .dataframe thead tr:only-child th {\n",
       "        text-align: right;\n",
       "    }\n",
       "\n",
       "    .dataframe thead th {\n",
       "        text-align: left;\n",
       "    }\n",
       "\n",
       "    .dataframe tbody tr th {\n",
       "        vertical-align: top;\n",
       "    }\n",
       "</style>\n",
       "<table border=\"1\" class=\"dataframe\">\n",
       "  <thead>\n",
       "    <tr style=\"text-align: right;\">\n",
       "      <th></th>\n",
       "      <th>Open</th>\n",
       "      <th>High</th>\n",
       "      <th>Low</th>\n",
       "      <th>Close</th>\n",
       "    </tr>\n",
       "    <tr>\n",
       "      <th>Date</th>\n",
       "      <th></th>\n",
       "      <th></th>\n",
       "      <th></th>\n",
       "      <th></th>\n",
       "    </tr>\n",
       "  </thead>\n",
       "  <tbody>\n",
       "    <tr>\n",
       "      <th>2018-05-15</th>\n",
       "      <td>0.15774</td>\n",
       "      <td>0.15781</td>\n",
       "      <td>0.15746</td>\n",
       "      <td>0.15748</td>\n",
       "    </tr>\n",
       "    <tr>\n",
       "      <th>2018-05-14</th>\n",
       "      <td>0.15796</td>\n",
       "      <td>0.15810</td>\n",
       "      <td>0.15787</td>\n",
       "      <td>0.15788</td>\n",
       "    </tr>\n",
       "    <tr>\n",
       "      <th>2018-05-11</th>\n",
       "      <td>0.15792</td>\n",
       "      <td>0.15813</td>\n",
       "      <td>0.15758</td>\n",
       "      <td>0.15813</td>\n",
       "    </tr>\n",
       "    <tr>\n",
       "      <th>2018-05-10</th>\n",
       "      <td>0.15702</td>\n",
       "      <td>0.15763</td>\n",
       "      <td>0.15696</td>\n",
       "      <td>0.15759</td>\n",
       "    </tr>\n",
       "    <tr>\n",
       "      <th>2018-05-09</th>\n",
       "      <td>0.15704</td>\n",
       "      <td>0.15710</td>\n",
       "      <td>0.15668</td>\n",
       "      <td>0.15692</td>\n",
       "    </tr>\n",
       "  </tbody>\n",
       "</table>\n",
       "</div>"
      ],
      "text/plain": [
       "               Open     High      Low    Close\n",
       "Date                                          \n",
       "2018-05-15  0.15774  0.15781  0.15746  0.15748\n",
       "2018-05-14  0.15796  0.15810  0.15787  0.15788\n",
       "2018-05-11  0.15792  0.15813  0.15758  0.15813\n",
       "2018-05-10  0.15702  0.15763  0.15696  0.15759\n",
       "2018-05-09  0.15704  0.15710  0.15668  0.15692"
      ]
     },
     "execution_count": 29,
     "metadata": {},
     "output_type": "execute_result"
    }
   ],
   "source": [
    "ch_fx.head()"
   ]
  },
  {
   "cell_type": "code",
   "execution_count": 30,
   "metadata": {
    "collapsed": true
   },
   "outputs": [],
   "source": [
    "ch_fx = ch_fx.drop(ch_fx.columns[[0, 1, 2]], axis=1) \n",
    "in_fx = in_fx.drop(in_fx.columns[[0, 1, 2]], axis=1) \n",
    "ru_fx = ru_fx.drop(ru_fx.columns[[0, 1, 2]], axis=1) "
   ]
  },
  {
   "cell_type": "code",
   "execution_count": 31,
   "metadata": {
    "collapsed": true
   },
   "outputs": [],
   "source": [
    "ch_fx = ch_fx.assign(ch_fx_change = 100*ch_fx.pct_change())\n",
    "in_fx = in_fx.assign(in_fx_change = 100*in_fx.pct_change())\n",
    "ru_fx = ru_fx.assign(ru_fx_change = 100*ru_fx.pct_change())"
   ]
  },
  {
   "cell_type": "code",
   "execution_count": 32,
   "metadata": {
    "collapsed": true
   },
   "outputs": [],
   "source": [
    "ch_fx.index = pd.DatetimeIndex(ch_fx.index)\n",
    "ch_fx = ch_fx.reindex(idx, fill_value='NaN')\n",
    "\n",
    "in_fx.index = pd.DatetimeIndex(in_fx.index)\n",
    "in_fx = in_fx.reindex(idx, fill_value='NaN')\n",
    "\n",
    "ru_fx.index = pd.DatetimeIndex(ru_fx.index)\n",
    "ru_fx = ru_fx.reindex(idx, fill_value='NaN')"
   ]
  },
  {
   "cell_type": "code",
   "execution_count": 33,
   "metadata": {
    "collapsed": true
   },
   "outputs": [],
   "source": [
    "ch_fx = ch_fx.drop('Close', 1)\n",
    "in_fx = in_fx.drop('Close', 1)\n",
    "ru_fx = ru_fx.drop('Close', 1)"
   ]
  },
  {
   "cell_type": "code",
   "execution_count": 34,
   "metadata": {},
   "outputs": [
    {
     "data": {
      "text/html": [
       "<div>\n",
       "<style>\n",
       "    .dataframe thead tr:only-child th {\n",
       "        text-align: right;\n",
       "    }\n",
       "\n",
       "    .dataframe thead th {\n",
       "        text-align: left;\n",
       "    }\n",
       "\n",
       "    .dataframe tbody tr th {\n",
       "        vertical-align: top;\n",
       "    }\n",
       "</style>\n",
       "<table border=\"1\" class=\"dataframe\">\n",
       "  <thead>\n",
       "    <tr style=\"text-align: right;\">\n",
       "      <th></th>\n",
       "      <th>Announcements</th>\n",
       "      <th>2yr_yield</th>\n",
       "      <th>daily_pct_change</th>\n",
       "      <th>ch_equity_change</th>\n",
       "      <th>in_equity_change</th>\n",
       "      <th>ru_equity_change</th>\n",
       "      <th>ch_fx_change</th>\n",
       "      <th>in_fx_change</th>\n",
       "      <th>ru_fx_change</th>\n",
       "    </tr>\n",
       "    <tr>\n",
       "      <th>DATE</th>\n",
       "      <th></th>\n",
       "      <th></th>\n",
       "      <th></th>\n",
       "      <th></th>\n",
       "      <th></th>\n",
       "      <th></th>\n",
       "      <th></th>\n",
       "      <th></th>\n",
       "      <th></th>\n",
       "    </tr>\n",
       "  </thead>\n",
       "  <tbody>\n",
       "    <tr>\n",
       "      <th>2008-10-08</th>\n",
       "      <td>FFR target decrease *intermeeting</td>\n",
       "      <td>1.65</td>\n",
       "      <td>12.244898</td>\n",
       "      <td>0.850293</td>\n",
       "      <td>7.60374</td>\n",
       "      <td>-9.8396</td>\n",
       "      <td>4.45312</td>\n",
       "      <td>0</td>\n",
       "      <td>-0.634524</td>\n",
       "    </tr>\n",
       "    <tr>\n",
       "      <th>2008-10-29</th>\n",
       "      <td>FFR target decrease</td>\n",
       "      <td>1.58</td>\n",
       "      <td>-4.242424</td>\n",
       "      <td>-2.48354</td>\n",
       "      <td>-7.5965</td>\n",
       "      <td>-15.1191</td>\n",
       "      <td>4.62331</td>\n",
       "      <td>0</td>\n",
       "      <td>-1.33835</td>\n",
       "    </tr>\n",
       "    <tr>\n",
       "      <th>2008-11-25</th>\n",
       "      <td>MBS and agency debt purchase *intermeeting</td>\n",
       "      <td>1.15</td>\n",
       "      <td>-12.213740</td>\n",
       "      <td>-0.482644</td>\n",
       "      <td>-3.669</td>\n",
       "      <td>5.14401</td>\n",
       "      <td>2.46002</td>\n",
       "      <td>-1.20136</td>\n",
       "      <td>-0.30892</td>\n",
       "    </tr>\n",
       "    <tr>\n",
       "      <th>2008-12-16</th>\n",
       "      <td>FFR target decrease</td>\n",
       "      <td>0.65</td>\n",
       "      <td>-13.333333</td>\n",
       "      <td>-0.0915612</td>\n",
       "      <td>2.69359</td>\n",
       "      <td>-1.7032</td>\n",
       "      <td>-1.03809</td>\n",
       "      <td>-0.499905</td>\n",
       "      <td>-0.621887</td>\n",
       "    </tr>\n",
       "    <tr>\n",
       "      <th>2009-01-28</th>\n",
       "      <td>NaN</td>\n",
       "      <td>0.89</td>\n",
       "      <td>2.298851</td>\n",
       "      <td>NaN</td>\n",
       "      <td>0.229421</td>\n",
       "      <td>2.95647</td>\n",
       "      <td>NaN</td>\n",
       "      <td>0.205842</td>\n",
       "      <td>4.96925</td>\n",
       "    </tr>\n",
       "  </tbody>\n",
       "</table>\n",
       "</div>"
      ],
      "text/plain": [
       "                                         Announcements  2yr_yield  \\\n",
       "DATE                                                                \n",
       "2008-10-08           FFR target decrease *intermeeting       1.65   \n",
       "2008-10-29                         FFR target decrease       1.58   \n",
       "2008-11-25  MBS and agency debt purchase *intermeeting       1.15   \n",
       "2008-12-16                         FFR target decrease       0.65   \n",
       "2009-01-28                                         NaN       0.89   \n",
       "\n",
       "            daily_pct_change ch_equity_change in_equity_change  \\\n",
       "DATE                                                             \n",
       "2008-10-08         12.244898         0.850293          7.60374   \n",
       "2008-10-29         -4.242424         -2.48354          -7.5965   \n",
       "2008-11-25        -12.213740        -0.482644           -3.669   \n",
       "2008-12-16        -13.333333       -0.0915612          2.69359   \n",
       "2009-01-28          2.298851              NaN         0.229421   \n",
       "\n",
       "           ru_equity_change ch_fx_change in_fx_change ru_fx_change  \n",
       "DATE                                                                \n",
       "2008-10-08          -9.8396      4.45312            0    -0.634524  \n",
       "2008-10-29         -15.1191      4.62331            0     -1.33835  \n",
       "2008-11-25          5.14401      2.46002     -1.20136     -0.30892  \n",
       "2008-12-16          -1.7032     -1.03809    -0.499905    -0.621887  \n",
       "2009-01-28          2.95647          NaN     0.205842      4.96925  "
      ]
     },
     "execution_count": 34,
     "metadata": {},
     "output_type": "execute_result"
    }
   ],
   "source": [
    "market_response = market_response.join(ch_fx, how='left', lsuffix='_left', rsuffix='_right').join(in_fx, how='left', lsuffix='_left', rsuffix='_right').join(ru_fx, how='left', lsuffix='_left', rsuffix='_right')\n",
    "market_response.head()"
   ]
  },
  {
   "cell_type": "markdown",
   "metadata": {},
   "source": [
    "#### Bond Prices"
   ]
  },
  {
   "cell_type": "markdown",
   "metadata": {},
   "source": [
    "Chinese 10-Year"
   ]
  },
  {
   "cell_type": "code",
   "execution_count": 35,
   "metadata": {
    "collapsed": true
   },
   "outputs": [],
   "source": [
    "start = datetime.datetime(2008, 1, 1)\n",
    "end = datetime.datetime(2018, 5, 4)\n",
    "ch_bond = web.DataReader('10CNY.B', 'stooq', start, end)"
   ]
  },
  {
   "cell_type": "markdown",
   "metadata": {},
   "source": [
    "Indian 10-Year"
   ]
  },
  {
   "cell_type": "code",
   "execution_count": 36,
   "metadata": {
    "collapsed": true
   },
   "outputs": [],
   "source": [
    "start = datetime.datetime(2008, 1, 1)\n",
    "end = datetime.datetime(2018, 5, 4)\n",
    "in_bond = web.DataReader('10INY.B', 'stooq', start, end)"
   ]
  },
  {
   "cell_type": "markdown",
   "metadata": {},
   "source": [
    "Russian 10-Year"
   ]
  },
  {
   "cell_type": "code",
   "execution_count": 37,
   "metadata": {
    "collapsed": true
   },
   "outputs": [],
   "source": [
    "start = datetime.datetime(2008, 1, 1)\n",
    "end = datetime.datetime(2018, 5, 4)\n",
    "ru_bond = web.DataReader('10RUY.B', 'stooq', start, end)"
   ]
  },
  {
   "cell_type": "code",
   "execution_count": 38,
   "metadata": {},
   "outputs": [
    {
     "data": {
      "text/html": [
       "<div>\n",
       "<style>\n",
       "    .dataframe thead tr:only-child th {\n",
       "        text-align: right;\n",
       "    }\n",
       "\n",
       "    .dataframe thead th {\n",
       "        text-align: left;\n",
       "    }\n",
       "\n",
       "    .dataframe tbody tr th {\n",
       "        vertical-align: top;\n",
       "    }\n",
       "</style>\n",
       "<table border=\"1\" class=\"dataframe\">\n",
       "  <thead>\n",
       "    <tr style=\"text-align: right;\">\n",
       "      <th></th>\n",
       "      <th>Open</th>\n",
       "      <th>High</th>\n",
       "      <th>Low</th>\n",
       "      <th>Close</th>\n",
       "    </tr>\n",
       "    <tr>\n",
       "      <th>Date</th>\n",
       "      <th></th>\n",
       "      <th></th>\n",
       "      <th></th>\n",
       "      <th></th>\n",
       "    </tr>\n",
       "  </thead>\n",
       "  <tbody>\n",
       "    <tr>\n",
       "      <th>2018-05-15</th>\n",
       "      <td>7.32</td>\n",
       "      <td>7.37</td>\n",
       "      <td>7.31</td>\n",
       "      <td>7.36</td>\n",
       "    </tr>\n",
       "    <tr>\n",
       "      <th>2018-05-14</th>\n",
       "      <td>7.32</td>\n",
       "      <td>7.36</td>\n",
       "      <td>7.31</td>\n",
       "      <td>7.32</td>\n",
       "    </tr>\n",
       "    <tr>\n",
       "      <th>2018-05-11</th>\n",
       "      <td>7.35</td>\n",
       "      <td>7.38</td>\n",
       "      <td>7.29</td>\n",
       "      <td>7.31</td>\n",
       "    </tr>\n",
       "    <tr>\n",
       "      <th>2018-05-10</th>\n",
       "      <td>7.38</td>\n",
       "      <td>7.42</td>\n",
       "      <td>7.34</td>\n",
       "      <td>7.35</td>\n",
       "    </tr>\n",
       "    <tr>\n",
       "      <th>2018-05-09</th>\n",
       "      <td>7.40</td>\n",
       "      <td>7.42</td>\n",
       "      <td>7.38</td>\n",
       "      <td>7.38</td>\n",
       "    </tr>\n",
       "  </tbody>\n",
       "</table>\n",
       "</div>"
      ],
      "text/plain": [
       "            Open  High   Low  Close\n",
       "Date                               \n",
       "2018-05-15  7.32  7.37  7.31   7.36\n",
       "2018-05-14  7.32  7.36  7.31   7.32\n",
       "2018-05-11  7.35  7.38  7.29   7.31\n",
       "2018-05-10  7.38  7.42  7.34   7.35\n",
       "2018-05-09  7.40  7.42  7.38   7.38"
      ]
     },
     "execution_count": 38,
     "metadata": {},
     "output_type": "execute_result"
    }
   ],
   "source": [
    "ru_bond.head()"
   ]
  },
  {
   "cell_type": "code",
   "execution_count": 39,
   "metadata": {
    "collapsed": true
   },
   "outputs": [],
   "source": [
    "ch_bond = ch_bond.drop(ch_bond.columns[[0, 1, 2]], axis=1) \n",
    "in_bond = in_bond.drop(in_bond.columns[[0, 1, 2]], axis=1) \n",
    "ru_bond = ru_bond.drop(ru_bond.columns[[0, 1, 2]], axis=1) "
   ]
  },
  {
   "cell_type": "code",
   "execution_count": 40,
   "metadata": {
    "collapsed": true
   },
   "outputs": [],
   "source": [
    "ch_bond = ch_bond.assign(ch_bond_change = 100*ch_bond.pct_change())\n",
    "in_bond = in_bond.assign(in_bond_change = 100*in_bond.pct_change())\n",
    "ru_bond = ru_bond.assign(ru_bond_change = 100*ru_bond.pct_change())"
   ]
  },
  {
   "cell_type": "code",
   "execution_count": 41,
   "metadata": {
    "collapsed": true
   },
   "outputs": [],
   "source": [
    "ch_bond.index = pd.DatetimeIndex(ch_bond.index)\n",
    "ch_bond = ch_bond.reindex(idx, fill_value='NaN')\n",
    "\n",
    "in_bond.index = pd.DatetimeIndex(in_bond.index)\n",
    "in_bond = in_bond.reindex(idx, fill_value='NaN')\n",
    "\n",
    "ru_bond.index = pd.DatetimeIndex(ru_bond.index)\n",
    "ru_bond = ru_bond.reindex(idx, fill_value='NaN')"
   ]
  },
  {
   "cell_type": "code",
   "execution_count": 42,
   "metadata": {
    "collapsed": true
   },
   "outputs": [],
   "source": [
    "ch_bond = ch_bond.drop('Close', 1)\n",
    "in_bond = in_bond.drop('Close', 1)\n",
    "ru_bond = ru_bond.drop('Close', 1)"
   ]
  },
  {
   "cell_type": "code",
   "execution_count": 43,
   "metadata": {
    "scrolled": true
   },
   "outputs": [
    {
     "data": {
      "text/html": [
       "<div>\n",
       "<style>\n",
       "    .dataframe thead tr:only-child th {\n",
       "        text-align: right;\n",
       "    }\n",
       "\n",
       "    .dataframe thead th {\n",
       "        text-align: left;\n",
       "    }\n",
       "\n",
       "    .dataframe tbody tr th {\n",
       "        vertical-align: top;\n",
       "    }\n",
       "</style>\n",
       "<table border=\"1\" class=\"dataframe\">\n",
       "  <thead>\n",
       "    <tr style=\"text-align: right;\">\n",
       "      <th></th>\n",
       "      <th>Announcements</th>\n",
       "      <th>2yr_yield</th>\n",
       "      <th>daily_pct_change</th>\n",
       "      <th>ch_equity_change</th>\n",
       "      <th>in_equity_change</th>\n",
       "      <th>ru_equity_change</th>\n",
       "      <th>ch_fx_change</th>\n",
       "      <th>in_fx_change</th>\n",
       "      <th>ru_fx_change</th>\n",
       "      <th>ch_bond_change</th>\n",
       "      <th>in_bond_change</th>\n",
       "      <th>ru_bond_change</th>\n",
       "    </tr>\n",
       "    <tr>\n",
       "      <th>DATE</th>\n",
       "      <th></th>\n",
       "      <th></th>\n",
       "      <th></th>\n",
       "      <th></th>\n",
       "      <th></th>\n",
       "      <th></th>\n",
       "      <th></th>\n",
       "      <th></th>\n",
       "      <th></th>\n",
       "      <th></th>\n",
       "      <th></th>\n",
       "      <th></th>\n",
       "    </tr>\n",
       "  </thead>\n",
       "  <tbody>\n",
       "    <tr>\n",
       "      <th>2008-10-08</th>\n",
       "      <td>FFR target decrease *intermeeting</td>\n",
       "      <td>1.65</td>\n",
       "      <td>12.244898</td>\n",
       "      <td>0.850293</td>\n",
       "      <td>7.60374</td>\n",
       "      <td>-9.8396</td>\n",
       "      <td>4.45312</td>\n",
       "      <td>0</td>\n",
       "      <td>-0.634524</td>\n",
       "      <td>10.6061</td>\n",
       "      <td>3.59758</td>\n",
       "      <td>NaN</td>\n",
       "    </tr>\n",
       "    <tr>\n",
       "      <th>2008-10-29</th>\n",
       "      <td>FFR target decrease</td>\n",
       "      <td>1.58</td>\n",
       "      <td>-4.242424</td>\n",
       "      <td>-2.48354</td>\n",
       "      <td>-7.5965</td>\n",
       "      <td>-15.1191</td>\n",
       "      <td>4.62331</td>\n",
       "      <td>0</td>\n",
       "      <td>-1.33835</td>\n",
       "      <td>2.2508</td>\n",
       "      <td>1.03342</td>\n",
       "      <td>NaN</td>\n",
       "    </tr>\n",
       "    <tr>\n",
       "      <th>2008-11-25</th>\n",
       "      <td>MBS and agency debt purchase *intermeeting</td>\n",
       "      <td>1.15</td>\n",
       "      <td>-12.213740</td>\n",
       "      <td>-0.482644</td>\n",
       "      <td>-3.669</td>\n",
       "      <td>5.14401</td>\n",
       "      <td>2.46002</td>\n",
       "      <td>-1.20136</td>\n",
       "      <td>-0.30892</td>\n",
       "      <td>-1.88679</td>\n",
       "      <td>1.26511</td>\n",
       "      <td>NaN</td>\n",
       "    </tr>\n",
       "    <tr>\n",
       "      <th>2008-12-16</th>\n",
       "      <td>FFR target decrease</td>\n",
       "      <td>0.65</td>\n",
       "      <td>-13.333333</td>\n",
       "      <td>-0.0915612</td>\n",
       "      <td>2.69359</td>\n",
       "      <td>-1.7032</td>\n",
       "      <td>-1.03809</td>\n",
       "      <td>-0.499905</td>\n",
       "      <td>-0.621887</td>\n",
       "      <td>3.16901</td>\n",
       "      <td>2.55754</td>\n",
       "      <td>NaN</td>\n",
       "    </tr>\n",
       "    <tr>\n",
       "      <th>2009-01-28</th>\n",
       "      <td>NaN</td>\n",
       "      <td>0.89</td>\n",
       "      <td>2.298851</td>\n",
       "      <td>NaN</td>\n",
       "      <td>0.229421</td>\n",
       "      <td>2.95647</td>\n",
       "      <td>NaN</td>\n",
       "      <td>0.205842</td>\n",
       "      <td>4.96925</td>\n",
       "      <td>NaN</td>\n",
       "      <td>-2.59488</td>\n",
       "      <td>NaN</td>\n",
       "    </tr>\n",
       "  </tbody>\n",
       "</table>\n",
       "</div>"
      ],
      "text/plain": [
       "                                         Announcements  2yr_yield  \\\n",
       "DATE                                                                \n",
       "2008-10-08           FFR target decrease *intermeeting       1.65   \n",
       "2008-10-29                         FFR target decrease       1.58   \n",
       "2008-11-25  MBS and agency debt purchase *intermeeting       1.15   \n",
       "2008-12-16                         FFR target decrease       0.65   \n",
       "2009-01-28                                         NaN       0.89   \n",
       "\n",
       "            daily_pct_change ch_equity_change in_equity_change  \\\n",
       "DATE                                                             \n",
       "2008-10-08         12.244898         0.850293          7.60374   \n",
       "2008-10-29         -4.242424         -2.48354          -7.5965   \n",
       "2008-11-25        -12.213740        -0.482644           -3.669   \n",
       "2008-12-16        -13.333333       -0.0915612          2.69359   \n",
       "2009-01-28          2.298851              NaN         0.229421   \n",
       "\n",
       "           ru_equity_change ch_fx_change in_fx_change ru_fx_change  \\\n",
       "DATE                                                                 \n",
       "2008-10-08          -9.8396      4.45312            0    -0.634524   \n",
       "2008-10-29         -15.1191      4.62331            0     -1.33835   \n",
       "2008-11-25          5.14401      2.46002     -1.20136     -0.30892   \n",
       "2008-12-16          -1.7032     -1.03809    -0.499905    -0.621887   \n",
       "2009-01-28          2.95647          NaN     0.205842      4.96925   \n",
       "\n",
       "           ch_bond_change in_bond_change ru_bond_change  \n",
       "DATE                                                     \n",
       "2008-10-08        10.6061        3.59758            NaN  \n",
       "2008-10-29         2.2508        1.03342            NaN  \n",
       "2008-11-25       -1.88679        1.26511            NaN  \n",
       "2008-12-16        3.16901        2.55754            NaN  \n",
       "2009-01-28            NaN       -2.59488            NaN  "
      ]
     },
     "execution_count": 43,
     "metadata": {},
     "output_type": "execute_result"
    }
   ],
   "source": [
    "market_response = market_response.join(ch_bond, how='left', lsuffix='_left', rsuffix='_right').join(in_bond, how='left', lsuffix='_left', rsuffix='_right').join(ru_bond, how='left', lsuffix='_left', rsuffix='_right')\n",
    "market_response.head()"
   ]
  },
  {
   "cell_type": "code",
   "execution_count": 44,
   "metadata": {},
   "outputs": [
    {
     "data": {
      "text/html": [
       "<div>\n",
       "<style>\n",
       "    .dataframe thead tr:only-child th {\n",
       "        text-align: right;\n",
       "    }\n",
       "\n",
       "    .dataframe thead th {\n",
       "        text-align: left;\n",
       "    }\n",
       "\n",
       "    .dataframe tbody tr th {\n",
       "        vertical-align: top;\n",
       "    }\n",
       "</style>\n",
       "<table border=\"1\" class=\"dataframe\">\n",
       "  <thead>\n",
       "    <tr style=\"text-align: right;\">\n",
       "      <th></th>\n",
       "      <th>ch_equity_change</th>\n",
       "      <th>in_equity_change</th>\n",
       "      <th>ru_equity_change</th>\n",
       "    </tr>\n",
       "    <tr>\n",
       "      <th>DATE</th>\n",
       "      <th></th>\n",
       "      <th></th>\n",
       "      <th></th>\n",
       "    </tr>\n",
       "  </thead>\n",
       "  <tbody>\n",
       "    <tr>\n",
       "      <th>2008-10-08</th>\n",
       "      <td>0.850293</td>\n",
       "      <td>7.60374</td>\n",
       "      <td>-9.8396</td>\n",
       "    </tr>\n",
       "    <tr>\n",
       "      <th>2008-10-29</th>\n",
       "      <td>-2.48354</td>\n",
       "      <td>-7.5965</td>\n",
       "      <td>-15.1191</td>\n",
       "    </tr>\n",
       "    <tr>\n",
       "      <th>2008-11-25</th>\n",
       "      <td>-0.482644</td>\n",
       "      <td>-3.669</td>\n",
       "      <td>5.14401</td>\n",
       "    </tr>\n",
       "    <tr>\n",
       "      <th>2008-12-16</th>\n",
       "      <td>-0.0915612</td>\n",
       "      <td>2.69359</td>\n",
       "      <td>-1.7032</td>\n",
       "    </tr>\n",
       "    <tr>\n",
       "      <th>2009-01-28</th>\n",
       "      <td>NaN</td>\n",
       "      <td>0.229421</td>\n",
       "      <td>2.95647</td>\n",
       "    </tr>\n",
       "  </tbody>\n",
       "</table>\n",
       "</div>"
      ],
      "text/plain": [
       "           ch_equity_change in_equity_change ru_equity_change\n",
       "DATE                                                         \n",
       "2008-10-08         0.850293          7.60374          -9.8396\n",
       "2008-10-29         -2.48354          -7.5965         -15.1191\n",
       "2008-11-25        -0.482644           -3.669          5.14401\n",
       "2008-12-16       -0.0915612          2.69359          -1.7032\n",
       "2009-01-28              NaN         0.229421          2.95647"
      ]
     },
     "execution_count": 44,
     "metadata": {},
     "output_type": "execute_result"
    }
   ],
   "source": [
    "equity_response = market_response[['ch_equity_change', 'in_equity_change', 'ru_equity_change']].copy()\n",
    "equity_response.head()"
   ]
  },
  {
   "cell_type": "code",
   "execution_count": 45,
   "metadata": {},
   "outputs": [
    {
     "data": {
      "text/html": [
       "<div>\n",
       "<style>\n",
       "    .dataframe thead tr:only-child th {\n",
       "        text-align: right;\n",
       "    }\n",
       "\n",
       "    .dataframe thead th {\n",
       "        text-align: left;\n",
       "    }\n",
       "\n",
       "    .dataframe tbody tr th {\n",
       "        vertical-align: top;\n",
       "    }\n",
       "</style>\n",
       "<table border=\"1\" class=\"dataframe\">\n",
       "  <thead>\n",
       "    <tr style=\"text-align: right;\">\n",
       "      <th></th>\n",
       "      <th>ch_fx_change</th>\n",
       "      <th>in_fx_change</th>\n",
       "      <th>ru_fx_change</th>\n",
       "    </tr>\n",
       "    <tr>\n",
       "      <th>DATE</th>\n",
       "      <th></th>\n",
       "      <th></th>\n",
       "      <th></th>\n",
       "    </tr>\n",
       "  </thead>\n",
       "  <tbody>\n",
       "    <tr>\n",
       "      <th>2008-10-08</th>\n",
       "      <td>4.45312</td>\n",
       "      <td>0</td>\n",
       "      <td>-0.634524</td>\n",
       "    </tr>\n",
       "    <tr>\n",
       "      <th>2008-10-29</th>\n",
       "      <td>4.62331</td>\n",
       "      <td>0</td>\n",
       "      <td>-1.33835</td>\n",
       "    </tr>\n",
       "    <tr>\n",
       "      <th>2008-11-25</th>\n",
       "      <td>2.46002</td>\n",
       "      <td>-1.20136</td>\n",
       "      <td>-0.30892</td>\n",
       "    </tr>\n",
       "    <tr>\n",
       "      <th>2008-12-16</th>\n",
       "      <td>-1.03809</td>\n",
       "      <td>-0.499905</td>\n",
       "      <td>-0.621887</td>\n",
       "    </tr>\n",
       "    <tr>\n",
       "      <th>2009-01-28</th>\n",
       "      <td>NaN</td>\n",
       "      <td>0.205842</td>\n",
       "      <td>4.96925</td>\n",
       "    </tr>\n",
       "  </tbody>\n",
       "</table>\n",
       "</div>"
      ],
      "text/plain": [
       "           ch_fx_change in_fx_change ru_fx_change\n",
       "DATE                                             \n",
       "2008-10-08      4.45312            0    -0.634524\n",
       "2008-10-29      4.62331            0     -1.33835\n",
       "2008-11-25      2.46002     -1.20136     -0.30892\n",
       "2008-12-16     -1.03809    -0.499905    -0.621887\n",
       "2009-01-28          NaN     0.205842      4.96925"
      ]
     },
     "execution_count": 45,
     "metadata": {},
     "output_type": "execute_result"
    }
   ],
   "source": [
    "fx_response = market_response[['ch_fx_change', 'in_fx_change', 'ru_fx_change']].copy()\n",
    "fx_response.head()"
   ]
  },
  {
   "cell_type": "code",
   "execution_count": 46,
   "metadata": {},
   "outputs": [
    {
     "data": {
      "text/html": [
       "<div>\n",
       "<style>\n",
       "    .dataframe thead tr:only-child th {\n",
       "        text-align: right;\n",
       "    }\n",
       "\n",
       "    .dataframe thead th {\n",
       "        text-align: left;\n",
       "    }\n",
       "\n",
       "    .dataframe tbody tr th {\n",
       "        vertical-align: top;\n",
       "    }\n",
       "</style>\n",
       "<table border=\"1\" class=\"dataframe\">\n",
       "  <thead>\n",
       "    <tr style=\"text-align: right;\">\n",
       "      <th></th>\n",
       "      <th>ch_bond_change</th>\n",
       "      <th>in_bond_change</th>\n",
       "      <th>ru_bond_change</th>\n",
       "    </tr>\n",
       "    <tr>\n",
       "      <th>DATE</th>\n",
       "      <th></th>\n",
       "      <th></th>\n",
       "      <th></th>\n",
       "    </tr>\n",
       "  </thead>\n",
       "  <tbody>\n",
       "    <tr>\n",
       "      <th>2008-10-08</th>\n",
       "      <td>10.6061</td>\n",
       "      <td>3.59758</td>\n",
       "      <td>NaN</td>\n",
       "    </tr>\n",
       "    <tr>\n",
       "      <th>2008-10-29</th>\n",
       "      <td>2.2508</td>\n",
       "      <td>1.03342</td>\n",
       "      <td>NaN</td>\n",
       "    </tr>\n",
       "    <tr>\n",
       "      <th>2008-11-25</th>\n",
       "      <td>-1.88679</td>\n",
       "      <td>1.26511</td>\n",
       "      <td>NaN</td>\n",
       "    </tr>\n",
       "    <tr>\n",
       "      <th>2008-12-16</th>\n",
       "      <td>3.16901</td>\n",
       "      <td>2.55754</td>\n",
       "      <td>NaN</td>\n",
       "    </tr>\n",
       "    <tr>\n",
       "      <th>2009-01-28</th>\n",
       "      <td>NaN</td>\n",
       "      <td>-2.59488</td>\n",
       "      <td>NaN</td>\n",
       "    </tr>\n",
       "  </tbody>\n",
       "</table>\n",
       "</div>"
      ],
      "text/plain": [
       "           ch_bond_change in_bond_change ru_bond_change\n",
       "DATE                                                   \n",
       "2008-10-08        10.6061        3.59758            NaN\n",
       "2008-10-29         2.2508        1.03342            NaN\n",
       "2008-11-25       -1.88679        1.26511            NaN\n",
       "2008-12-16        3.16901        2.55754            NaN\n",
       "2009-01-28            NaN       -2.59488            NaN"
      ]
     },
     "execution_count": 46,
     "metadata": {},
     "output_type": "execute_result"
    }
   ],
   "source": [
    "bond_response = market_response[['ch_bond_change', 'in_bond_change', 'ru_bond_change']].copy()\n",
    "bond_response.head()"
   ]
  },
  {
   "cell_type": "markdown",
   "metadata": {},
   "source": [
    "## Section 3: Summarizing market reactions"
   ]
  },
  {
   "cell_type": "markdown",
   "metadata": {},
   "source": [
    "As I was creating my first graph I came across an error in the first line of my for loop stating that 'z' (a list of each column from the \"market_response\" dataframe to be graphed) couldn't be read because it was a list of objects, and needed to be in a number form. The next few lines fixed that."
   ]
  },
  {
   "cell_type": "code",
   "execution_count": 47,
   "metadata": {},
   "outputs": [],
   "source": [
    "z = ['ch_equity_change','ch_fx_change', 'ch_bond_change', 'in_equity_change', 'in_fx_change', 'in_bond_change', 'ru_equity_change', 'ru_fx_change', 'ru_bond_change']"
   ]
  },
  {
   "cell_type": "code",
   "execution_count": 48,
   "metadata": {},
   "outputs": [],
   "source": [
    "for var in z:\n",
    "    market_response[var] = pd.to_numeric(market_response[var], errors = 'force')"
   ]
  },
  {
   "cell_type": "code",
   "execution_count": 49,
   "metadata": {},
   "outputs": [
    {
     "data": {
      "text/plain": [
       "Announcements        object\n",
       "2yr_yield           float64\n",
       "daily_pct_change    float64\n",
       "ch_equity_change    float64\n",
       "in_equity_change    float64\n",
       "ru_equity_change    float64\n",
       "ch_fx_change        float64\n",
       "in_fx_change        float64\n",
       "ru_fx_change        float64\n",
       "ch_bond_change      float64\n",
       "in_bond_change      float64\n",
       "ru_bond_change      float64\n",
       "dtype: object"
      ]
     },
     "execution_count": 49,
     "metadata": {},
     "output_type": "execute_result"
    }
   ],
   "source": [
    "market_response.dtypes"
   ]
  },
  {
   "cell_type": "code",
   "execution_count": 124,
   "metadata": {
    "scrolled": false
   },
   "outputs": [
    {
     "data": {
      "image/png": "[encoded data removed]",
      "text/plain": [
       "<matplotlib.figure.Figure at 0x1214f02e8>"
      ]
     },
     "metadata": {},
     "output_type": "display_data"
    }
   ],
   "source": [
    "from pylab import *\n",
    "import matplotlib.colors as cl\n",
    "\n",
    "fig, ax = plt.subplots(nrows = 3, ncols = 3, sharex = 'col', sharey = 'row', figsize = (60,40))\n",
    "\n",
    "ax = ax.ravel()\n",
    "\n",
    "count = 0\n",
    "\n",
    "colors = ['red' if count < 3 else 'blue']\n",
    "\n",
    "for graph in ax:\n",
    "    \n",
    "    #basic graph\n",
    "    graph.bar(market_response.index, market_response[z[count]], width=15, color = colors) \n",
    "\n",
    "\n",
    "    #adjusting xticks\n",
    "    for tick in graph.xaxis.get_major_ticks():\n",
    "        tick.label1.set_fontsize(27)\n",
    "        tick.label1.set_fontweight('bold')\n",
    "        tick.label.set_rotation(45)\n",
    "        \n",
    "    for tick in graph.yaxis.get_major_ticks():\n",
    "        tick.label1.set_fontsize(25)\n",
    "        tick.label1.set_fontweight('bold')\n",
    "        \n",
    "    graph.axhline(y=0, color='k', linewidth=0.5)\n",
    "    \n",
    "    graph.set_ylim(-15,15)\n",
    "    \n",
    "    #spines\n",
    "    graph.spines[\"right\"].set_visible(False) \n",
    "    graph.spines[\"top\"].set_visible(False)\n",
    "   \n",
    "    if count < 6:\n",
    "        graph.spines['bottom'].set_visible(False)  \n",
    "        \n",
    "    key_values = [0, 3, 6]\n",
    "    \n",
    "    for x in key_values:\n",
    "        if count is x:\n",
    "             graph.spines['left'].set_visible(True)\n",
    "        else:\n",
    "            graph.spines['left'].set_visible(False)\n",
    "    \n",
    "    if count is 0:\n",
    "        graph.spines['left'].set_visible(True)\n",
    "    \n",
    "    if count is 3:\n",
    "        graph.spines['left'].set_visible(True)\n",
    "    \n",
    "    #row labels\n",
    "    if count is 0:\n",
    "        graph.set_ylabel('China', fontsize=40, color='r', fontweight='bold')\n",
    "    if count is 3:\n",
    "        graph.set_ylabel('India', fontsize=40, color = 'g', fontweight='bold')\n",
    "    if count is 6:\n",
    "        graph.set_ylabel('Russia', fontsize=40, color = 'b', fontweight='bold')\n",
    "    \n",
    "    count = count + 1\n",
    "        \n",
    "ax[0].set_title('Equity Index', fontsize=40, y = 1.1, fontweight = \"bold\")\n",
    "ax[1].set_title('Exchange Rate', fontsize=40, y = 1.1, fontweight = \"bold\")\n",
    "ax[2].set_title('10-Year Bond Yield', fontsize=40, y = 1.1, fontweight = \"bold\")\n",
    "\n",
    "fig.suptitle(\"% Changes in Key Indicators on FOMC Days\", fontsize = 50, fontweight = \"bold\", y=0.98) \n",
    "\n",
    "fig.subplots_adjust(hspace=0.1, wspace=0.1)\n"
   ]
  },
  {
   "cell_type": "markdown",
   "metadata": {},
   "source": [
    "Now that we have changes in asset prices in each country, we can collapse them by indicator and compute their average."
   ]
  },
  {
   "cell_type": "code",
   "execution_count": 157,
   "metadata": {
    "collapsed": true
   },
   "outputs": [],
   "source": [
    "for var in equity_response:\n",
    "    equity_response[var] = pd.to_numeric(equity_response[var], errors = 'force')\n",
    "for var in fx_response:\n",
    "    fx_response[var] = pd.to_numeric(fx_response[var], errors = 'force')\n",
    "for var in bond_response:\n",
    "    bond_response[var] = pd.to_numeric(bond_response[var], errors = 'force')"
   ]
  },
  {
   "cell_type": "code",
   "execution_count": 93,
   "metadata": {},
   "outputs": [],
   "source": [
    "equity_response['avg'] = equity_response.mean(axis=1)\n",
    "fx_response['avg'] = fx_response.mean(axis=1)\n",
    "bond_response['avg'] = bond_response.mean(axis=1)"
   ]
  },
  {
   "cell_type": "code",
   "execution_count": 156,
   "metadata": {
    "scrolled": false
   },
   "outputs": [
    {
     "data": {
      "text/plain": [
       "Text(0.5,0.9,'% Changes in Key Indicators vs. 2-Year-Treasury Yields')"
      ]
     },
     "execution_count": 156,
     "metadata": {},
     "output_type": "execute_result"
    },
    {
     "data": {
      "image/png": "[encoded data removed]",
      "text/plain": [
       "<matplotlib.figure.Figure at 0x120436dd8>"
      ]
     },
     "metadata": {},
     "output_type": "display_data"
    }
   ],
   "source": [
    "fig, ax = plt.subplots(nrows = 3, ncols = 1, figsize = (15,20))\n",
    "\n",
    "ax[0].bar(equity_response.index, equity_response['avg'], width=-20, align='edge', color='C9', alpha=1)\n",
    "ax[0].bar(equity_response.index, fomc_dates['daily_pct_change'], width=+20, align='edge', color='red', alpha=0.3)\n",
    "\n",
    "ax[0].spines['top'].set_visible(False)\n",
    "ax[0].spines['right'].set_visible(False)\n",
    "ax[0].spines['bottom'].set_visible(False)\n",
    "ax[0].set_ylabel('Equity Changes vs. Treasury Yields', fontsize=14, fontweight='bold')\n",
    "\n",
    "\n",
    "ax[1].bar(fx_response.index, fx_response['avg'], width=-20, align='edge', color='C9')\n",
    "ax[1].bar(fx_response.index, fomc_dates['daily_pct_change'], width=+20, align='edge', color='red', alpha=0.3)\n",
    "\n",
    "ax[1].spines['top'].set_visible(False)\n",
    "ax[1].spines['right'].set_visible(False)\n",
    "ax[1].spines['bottom'].set_visible(False)\n",
    "ax[1].set_ylabel('Exchange Rate Changes vs. Treasury Yields', fontsize=14, fontweight='bold')\n",
    "\n",
    "ax[2].bar(bond_response.index, bond_response['avg'], width=-20, align='edge', color='C9')\n",
    "ax[2].bar(bond_response.index, fomc_dates['daily_pct_change'], width=+20, align='edge', color='red', alpha=0.3)\n",
    "\n",
    "ax[2].spines['top'].set_visible(False)\n",
    "ax[2].spines['right'].set_visible(False)\n",
    "ax[2].set_ylabel('Bond Changes vs. Treasury Yields', fontsize=14, fontweight='bold')\n",
    "\n",
    "for tick in ax[2].xaxis.get_major_ticks():\n",
    "    tick.label1.set_fontsize(14)\n",
    "    \n",
    "fig.subplots_adjust(hspace=0.1)\n",
    "\n",
    "fig.suptitle(\"% Changes in Key Indicators vs. 2-Year-Treasury Yields\", fontsize = 20, fontweight = \"bold\", y=0.9) \n"
   ]
  },
  {
   "cell_type": "markdown",
   "metadata": {},
   "source": [
    "These final graphs suggest there isn't a strong correlation between the expectedness of FOMC policy announcements and emerging market financial conditions, at least under the assumption that sudden changes in U.S. treasury yields signify surprise. That being said, there are a number of obvious reasons to question this conclusion, given the limit of the study. \n",
    "\n",
    "Ways to improve/expand on this study are:\n",
    "* Most significantly would be to incorporate more emerging countries, especially since China, India, and Brazil are three of the four largest emerging market economies, and as such have more developed financial systems that make them less vulnerable to schocks than other smaller economies\n",
    "* Compensating for noise and/or country-specific factors that inevitably affect the data\n",
    "* Using a different metric for determing \"surprise\" to FOMC announements, especially as the Great Recesion becomes further away and unconventional policy becomes the norm"
   ]
  }
 ],
 "metadata": {
  "kernelspec": {
   "display_name": "Python 3",
   "language": "python",
   "name": "python3"
  },
  "language_info": {
   "codemirror_mode": {
    "name": "ipython",
    "version": 3
   },
   "file_extension": ".py",
   "mimetype": "text/x-python",
   "name": "python",
   "nbconvert_exporter": "python",
   "pygments_lexer": "ipython3",
   "version": "3.6.3"
  }
 },
 "nbformat": 4,
 "nbformat_minor": 2
}
